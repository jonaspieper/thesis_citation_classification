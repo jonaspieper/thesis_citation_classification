{
 "cells": [
  {
   "cell_type": "code",
   "execution_count": 1,
   "id": "a76918db-031e-42ac-8a82-36ab265c51d1",
   "metadata": {},
   "outputs": [],
   "source": [
    "import pandas as pd"
   ]
  },
  {
   "cell_type": "code",
   "execution_count": 2,
   "id": "5b1e1cb7-7234-46e4-a122-d13d30b42a30",
   "metadata": {},
   "outputs": [
    {
     "name": "stderr",
     "output_type": "stream",
     "text": [
      "/home/roland/Projects/JP_citation_classification/fewshotclassifier/venv/lib/python3.8/site-packages/tqdm/auto.py:21: TqdmWarning: IProgress not found. Please update jupyter and ipywidgets. See https://ipywidgets.readthedocs.io/en/stable/user_install.html\n",
      "  from .autonotebook import tqdm as notebook_tqdm\n"
     ]
    }
   ],
   "source": [
    "from datasets import load_dataset\n",
    "from sentence_transformers.losses import CosineSimilarityLoss\n",
    "\n",
    "from setfit import SetFitModel, SetFitTrainer"
   ]
  },
  {
   "cell_type": "code",
   "execution_count": 3,
   "id": "2f4c09e8-35dc-4143-9571-29e040a1139e",
   "metadata": {},
   "outputs": [],
   "source": [
    "from datasets import Dataset"
   ]
  },
  {
   "cell_type": "code",
   "execution_count": 35,
   "id": "2dc02797-8b92-4f3b-9e86-cba4eb3deea0",
   "metadata": {},
   "outputs": [],
   "source": [
    "test = pd.read_csv('/home/roland/Projects/JP_citation_classification/SciBERT_additional_features/data/non_contiguous_acl_arc_exp3/test.txt' ,sep=\"\\t\", engine=\"python\", dtype=object)\n",
    "train = pd.read_csv('/home/roland/Projects/JP_citation_classification/SciBERT_additional_features/data/non_contiguous_acl_arc_exp3/train.txt' ,sep=\"\\t\", engine=\"python\", dtype=object)\n",
    "valid = pd.read_csv('/home/roland/Projects/JP_citation_classification/SciBERT_additional_features/data/non_contiguous_acl_arc_exp3/valid.txt' ,sep=\"\\t\", engine=\"python\", dtype=object)"
   ]
  },
  {
   "cell_type": "code",
   "execution_count": null,
   "id": "3edc85ad-8597-4d3c-94e8-73bf86ebc822",
   "metadata": {},
   "outputs": [],
   "source": []
  },
  {
   "cell_type": "code",
   "execution_count": 24,
   "id": "81ac86f8-08ca-4813-aedc-5eb848c114f3",
   "metadata": {},
   "outputs": [],
   "source": [
    "train = train[['citation_class_label', 'dynamic_contexts_combined', 'section_title']]\n",
    "test = test[['citation_class_label', 'dynamic_contexts_combined', 'section_title']]\n",
    "valid = valid[['citation_class_label', 'dynamic_contexts_combined', 'section_title']]\n"
   ]
  },
  {
   "cell_type": "code",
   "execution_count": 25,
   "id": "799887c4-314b-4426-85af-69237cc60054",
   "metadata": {},
   "outputs": [],
   "source": [
    "train.citation_class_label = train.citation_class_label.astype(int)\n",
    "test.citation_class_label = test.citation_class_label.astype(int)\n",
    "valid.citation_class_label = valid.citation_class_label.astype(int)"
   ]
  },
  {
   "cell_type": "code",
   "execution_count": 26,
   "id": "7651f381-2a7c-41ff-91c2-c26acb8c1474",
   "metadata": {},
   "outputs": [],
   "source": [
    "train = train.loc[(train.citation_class_label == 1) | (train.citation_class_label == 0)]\n",
    "test = test.loc[(test.citation_class_label == 1) | (test.citation_class_label == 0)]\n",
    "valid = valid.loc[(valid.citation_class_label == 1) | (valid.citation_class_label == 0)]"
   ]
  },
  {
   "cell_type": "code",
   "execution_count": 27,
   "id": "94696209-6fe0-4144-879d-df33a87f83f0",
   "metadata": {},
   "outputs": [],
   "source": [
    "train = train[['dynamic_contexts_combined', 'citation_class_label', 'section_title']].rename(columns={'dynamic_contexts_combined': 'text', 'citation_class_label': 'label'})\n",
    "test = test[['dynamic_contexts_combined', 'citation_class_label', 'section_title']].rename(columns={'dynamic_contexts_combined': 'text', 'citation_class_label': 'label'})\n",
    "valid = valid[['dynamic_contexts_combined', 'citation_class_label', 'section_title']].rename(columns={'dynamic_contexts_combined': 'text', 'citation_class_label': 'label'})"
   ]
  },
  {
   "cell_type": "code",
   "execution_count": null,
   "id": "f3a253cc-5f19-4007-bc9b-97c3a5833e53",
   "metadata": {},
   "outputs": [],
   "source": []
  },
  {
   "cell_type": "code",
   "execution_count": 37,
   "id": "48d57601-e53b-4dbf-a796-5e59c9c6b607",
   "metadata": {},
   "outputs": [],
   "source": [
    "train = train[['citation_class_label', 'dynamic_contexts_combined']]\n",
    "test = test[['citation_class_label', 'dynamic_contexts_combined']]\n",
    "valid = valid[['citation_class_label', 'dynamic_contexts_combined']]\n",
    "train.citation_class_label = train.citation_class_label.astype(int)\n",
    "test.citation_class_label = test.citation_class_label.astype(int)\n",
    "valid.citation_class_label = valid.citation_class_label.astype(int)\n",
    "train = train.loc[(train.citation_class_label == 1) | (train.citation_class_label == 0)]\n",
    "test = test.loc[(test.citation_class_label == 1) | (test.citation_class_label == 0)]\n",
    "valid = valid.loc[(valid.citation_class_label == 1) | (valid.citation_class_label == 0)]\n",
    "train = train[['dynamic_contexts_combined', 'citation_class_label']].rename(columns={'dynamic_contexts_combined': 'text', 'citation_class_label': 'label'})\n",
    "test = test[['dynamic_contexts_combined', 'citation_class_label']].rename(columns={'dynamic_contexts_combined': 'text', 'citation_class_label': 'label'})\n",
    "valid = valid[['dynamic_contexts_combined', 'citation_class_label']].rename(columns={'dynamic_contexts_combined': 'text', 'citation_class_label': 'label'})"
   ]
  },
  {
   "cell_type": "code",
   "execution_count": 38,
   "id": "15f08869-f024-43b5-99ab-d5dc355e1697",
   "metadata": {},
   "outputs": [],
   "source": [
    "train_ds_full = Dataset.from_pandas(train).remove_columns('__index_level_0__')\n",
    "test_ds = Dataset.from_pandas(test).remove_columns('__index_level_0__')"
   ]
  },
  {
   "cell_type": "code",
   "execution_count": 39,
   "id": "df8b5341-98fe-4fa8-97c4-b65348e3aa3d",
   "metadata": {
    "scrolled": true
   },
   "outputs": [],
   "source": [
    "train_ds = train_ds_full.shuffle(seed=34).select(range(8 * 2))\n",
    "#test_ds = dataset[\"test\"]"
   ]
  },
  {
   "cell_type": "code",
   "execution_count": 40,
   "id": "30ba62f0-7f90-4859-9690-cf2911761e13",
   "metadata": {},
   "outputs": [
    {
     "name": "stderr",
     "output_type": "stream",
     "text": [
      "model_head.pkl not found on HuggingFace Hub, initialising classification head with random weights. You should TRAIN this model on a downstream task to use it for predictions and inference.\n"
     ]
    }
   ],
   "source": [
    "model = SetFitModel.from_pretrained(\"sentence-transformers/paraphrase-mpnet-base-v2\")\n",
    "\n",
    "# Create trainer\n",
    "trainer = SetFitTrainer(\n",
    "    model=model,\n",
    "    train_dataset=train_ds,\n",
    "    eval_dataset=test_ds,\n",
    "    loss_class=CosineSimilarityLoss,\n",
    "    batch_size=16,\n",
    "    num_iterations=20, # Number of text pairs to generate for contrastive learning\n",
    "    num_epochs=1 # Number of epochs to use for contrastive learning\n",
    ")"
   ]
  },
  {
   "cell_type": "code",
   "execution_count": 41,
   "id": "b673fae6-5af8-416e-858d-57122ca53290",
   "metadata": {
    "scrolled": true
   },
   "outputs": [
    {
     "name": "stderr",
     "output_type": "stream",
     "text": [
      "Generating Training Pairs: 100%|██████████| 20/20 [00:00<00:00, 1657.14it/s]\n",
      "***** Running training *****\n",
      "  Num examples = 640\n",
      "  Num epochs = 1\n",
      "  Total optimization steps = 40\n",
      "  Total train batch size = 16\n",
      "Epoch:   0%|          | 0/1 [00:00<?, ?it/s]\n",
      "Iteration:   0%|          | 0/40 [00:00<?, ?it/s]\u001b[A\n",
      "Iteration:   2%|▎         | 1/40 [00:00<00:15,  2.50it/s]\u001b[A\n",
      "Iteration:   5%|▌         | 2/40 [00:00<00:14,  2.59it/s]\u001b[A\n",
      "Iteration:   8%|▊         | 3/40 [00:01<00:15,  2.45it/s]\u001b[A\n",
      "Iteration:  10%|█         | 4/40 [00:01<00:14,  2.44it/s]\u001b[A\n",
      "Iteration:  12%|█▎        | 5/40 [00:02<00:14,  2.39it/s]\u001b[A\n",
      "Iteration:  15%|█▌        | 6/40 [00:02<00:13,  2.53it/s]\u001b[A\n",
      "Iteration:  18%|█▊        | 7/40 [00:02<00:13,  2.53it/s]\u001b[A\n",
      "Iteration:  20%|██        | 8/40 [00:03<00:12,  2.51it/s]\u001b[A\n",
      "Iteration:  22%|██▎       | 9/40 [00:03<00:12,  2.48it/s]\u001b[A\n",
      "Iteration:  25%|██▌       | 10/40 [00:03<00:11,  2.51it/s]\u001b[A\n",
      "Iteration:  28%|██▊       | 11/40 [00:04<00:11,  2.52it/s]\u001b[A\n",
      "Iteration:  30%|███       | 12/40 [00:04<00:11,  2.50it/s]\u001b[A\n",
      "Iteration:  32%|███▎      | 13/40 [00:05<00:10,  2.49it/s]\u001b[A\n",
      "Iteration:  35%|███▌      | 14/40 [00:05<00:10,  2.52it/s]\u001b[A\n",
      "Iteration:  38%|███▊      | 15/40 [00:06<00:10,  2.49it/s]\u001b[A\n",
      "Iteration:  40%|████      | 16/40 [00:06<00:09,  2.48it/s]\u001b[A\n",
      "Iteration:  42%|████▎     | 17/40 [00:06<00:09,  2.50it/s]\u001b[A\n",
      "Iteration:  45%|████▌     | 18/40 [00:07<00:08,  2.54it/s]\u001b[A\n",
      "Iteration:  48%|████▊     | 19/40 [00:07<00:08,  2.52it/s]\u001b[A\n",
      "Iteration:  50%|█████     | 20/40 [00:07<00:08,  2.50it/s]\u001b[A\n",
      "Iteration:  52%|█████▎    | 21/40 [00:08<00:07,  2.46it/s]\u001b[A\n",
      "Iteration:  55%|█████▌    | 22/40 [00:08<00:07,  2.45it/s]\u001b[A\n",
      "Iteration:  57%|█████▊    | 23/40 [00:09<00:06,  2.48it/s]\u001b[A\n",
      "Iteration:  60%|██████    | 24/40 [00:09<00:06,  2.53it/s]\u001b[A\n",
      "Iteration:  62%|██████▎   | 25/40 [00:09<00:05,  2.53it/s]\u001b[A\n",
      "Iteration:  65%|██████▌   | 26/40 [00:10<00:05,  2.52it/s]\u001b[A\n",
      "Iteration:  68%|██████▊   | 27/40 [00:10<00:05,  2.51it/s]\u001b[A\n",
      "Iteration:  70%|███████   | 28/40 [00:11<00:04,  2.55it/s]\u001b[A\n",
      "Iteration:  72%|███████▎  | 29/40 [00:11<00:04,  2.57it/s]\u001b[A\n",
      "Iteration:  75%|███████▌  | 30/40 [00:11<00:03,  2.55it/s]\u001b[A\n",
      "Iteration:  78%|███████▊  | 31/40 [00:12<00:03,  2.55it/s]\u001b[A\n",
      "Iteration:  80%|████████  | 32/40 [00:12<00:03,  2.53it/s]\u001b[A\n",
      "Iteration:  82%|████████▎ | 33/40 [00:13<00:02,  2.55it/s]\u001b[A\n",
      "Iteration:  85%|████████▌ | 34/40 [00:13<00:02,  2.57it/s]\u001b[A\n",
      "Iteration:  88%|████████▊ | 35/40 [00:13<00:01,  2.56it/s]\u001b[A\n",
      "Iteration:  90%|█████████ | 36/40 [00:14<00:01,  2.60it/s]\u001b[A\n",
      "Iteration:  92%|█████████▎| 37/40 [00:14<00:01,  2.58it/s]\u001b[A\n",
      "Iteration:  95%|█████████▌| 38/40 [00:14<00:00,  2.56it/s]\u001b[A\n",
      "Iteration:  98%|█████████▊| 39/40 [00:15<00:00,  2.60it/s]\u001b[A\n",
      "Iteration: 100%|██████████| 40/40 [00:15<00:00,  2.55it/s]\u001b[A\n",
      "Epoch: 100%|██████████| 1/1 [00:15<00:00, 15.68s/it]\n",
      "***** Running evaluation *****\n"
     ]
    }
   ],
   "source": [
    "trainer.train()\n",
    "metrics = trainer.evaluate()"
   ]
  },
  {
   "cell_type": "code",
   "execution_count": 33,
   "id": "fc5373de-05b5-41ac-a343-f9d26627ef11",
   "metadata": {},
   "outputs": [
    {
     "data": {
      "text/plain": [
       "{'accuracy': 0.7268041237113402}"
      ]
     },
     "execution_count": 33,
     "metadata": {},
     "output_type": "execute_result"
    }
   ],
   "source": [
    "metrics"
   ]
  },
  {
   "cell_type": "code",
   "execution_count": 42,
   "id": "2140f5d5-221f-4282-af70-f300483e3d53",
   "metadata": {},
   "outputs": [
    {
     "data": {
      "text/plain": [
       "{'accuracy': 0.7268041237113402}"
      ]
     },
     "execution_count": 42,
     "metadata": {},
     "output_type": "execute_result"
    }
   ],
   "source": [
    "metrics"
   ]
  },
  {
   "cell_type": "code",
   "execution_count": 43,
   "id": "7997fe70-5f37-4f18-982b-27f0a56b9d0d",
   "metadata": {},
   "outputs": [],
   "source": [
    "trainer.model._save_pretrained(save_directory=\"./output/\")"
   ]
  },
  {
   "cell_type": "code",
   "execution_count": null,
   "id": "b82d2e4f-8a15-4652-a229-4dd2307c5d0f",
   "metadata": {},
   "outputs": [],
   "source": []
  }
 ],
 "metadata": {
  "kernelspec": {
   "display_name": "„venv_jonas_fewshot“",
   "language": "python",
   "name": "venv"
  },
  "language_info": {
   "codemirror_mode": {
    "name": "ipython",
    "version": 3
   },
   "file_extension": ".py",
   "mimetype": "text/x-python",
   "name": "python",
   "nbconvert_exporter": "python",
   "pygments_lexer": "ipython3",
   "version": "3.8.10"
  }
 },
 "nbformat": 4,
 "nbformat_minor": 5
}
