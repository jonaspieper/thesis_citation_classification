{
 "cells": [
  {
   "cell_type": "code",
   "execution_count": 1,
   "id": "7dfdb807-df33-40a2-bf05-db9ec62375d7",
   "metadata": {},
   "outputs": [],
   "source": [
    "import pandas as pd\n",
    "from sklearn.metrics import f1_score\n",
    "from xgboost import XGBClassifier"
   ]
  },
  {
   "cell_type": "code",
   "execution_count": 71,
   "id": "a1d0edde-3151-4a0c-98d8-36fc8884d6eb",
   "metadata": {},
   "outputs": [],
   "source": [
    "train_df = pd.read_csv('/home/roland/Projects/JP_citation_classification/dynamic_citation_extraction_original/data/fixed_context_sdp_act/train.txt', sep=\"\\t\", engine=\"python\", dtype=object)\n",
    "test_df = pd.read_csv('/home/roland/Projects/JP_citation_classification/dynamic_citation_extraction_original/data/fixed_context_sdp_act/test.txt', sep=\"\\t\", engine=\"python\", dtype=object)\n",
    "val_df = pd.read_csv('/home/roland/Projects/JP_citation_classification/dynamic_citation_extraction_original/data/fixed_context_sdp_act/valid.txt', sep=\"\\t\", engine=\"python\", dtype=object)"
   ]
  },
  {
   "cell_type": "code",
   "execution_count": 64,
   "id": "6c513cfb-fcff-4cb2-b6bd-ecd10c23f92b",
   "metadata": {},
   "outputs": [],
   "source": [
    "add_data = pd.read_csv('/home/roland/Projects/JP_citation_classification/feature_scraping/data/enriched_data/6_diff_in_publication_date.csv')"
   ]
  },
  {
   "cell_type": "code",
   "execution_count": 65,
   "id": "810e4f6e-4d40-4592-a741-35154b3a4e88",
   "metadata": {},
   "outputs": [
    {
     "name": "stdout",
     "output_type": "stream",
     "text": [
      "<class 'pandas.core.frame.DataFrame'>\n",
      "RangeIndex: 2500 entries, 0 to 2499\n",
      "Data columns (total 19 columns):\n",
      " #   Column                   Non-Null Count  Dtype \n",
      "---  ------                   --------------  ----- \n",
      " 0   unique_id                2500 non-null   object\n",
      " 1   core_id                  2500 non-null   object\n",
      " 2   citing_title             2500 non-null   object\n",
      " 3   citing_author            2500 non-null   object\n",
      " 4   cited_title              2500 non-null   object\n",
      " 5   cited_author             2500 non-null   object\n",
      " 6   cited_abstract           2242 non-null   object\n",
      " 7   citation_context         2500 non-null   object\n",
      " 8   cite_context_paragraph   2500 non-null   object\n",
      " 9   citation_class_label     2500 non-null   object\n",
      " 10  cite_context_-1_sent     2500 non-null   object\n",
      " 11  cite_context_sent_+1     2500 non-null   object\n",
      " 12  cite_context_-1_sent_+1  2500 non-null   object\n",
      " 13  cite_context_-2_sent     2500 non-null   object\n",
      " 14  cite_context_sent_+2     2500 non-null   object\n",
      " 15  cite_context_-2_sent_+1  2500 non-null   object\n",
      " 16  cite_context_-1_sent_+2  2500 non-null   object\n",
      " 17  cite_context_-3_sent     2500 non-null   object\n",
      " 18  cite_context_sent_+3     2500 non-null   object\n",
      "dtypes: object(19)\n",
      "memory usage: 371.2+ KB\n"
     ]
    }
   ],
   "source": [
    "train_df.info()"
   ]
  },
  {
   "cell_type": "code",
   "execution_count": 66,
   "id": "059e1497-e112-4d75-befc-a24c22b5289f",
   "metadata": {},
   "outputs": [],
   "source": [
    "extra_features = ['unique_id', 'cite_pos_in_sent', 'self_citation', 'direct_citations', 'cited_publication_date', 'cited_publication_info', 'sent_pos_in_article']"
   ]
  },
  {
   "cell_type": "code",
   "execution_count": 67,
   "id": "cf2bff19-9fef-472c-820d-d7df3b10fb85",
   "metadata": {},
   "outputs": [],
   "source": [
    "train_df = pd.merge(left = train_df, right = add_data[extra_features], on = 'unique_id', how = 'left').dropna()\n",
    "test_df = pd.merge(left = test_df, right = add_data[extra_features], on = 'unique_id', how = 'left')#.dropna()\n",
    "val_df = pd.merge(left = val_df, right = add_data[extra_features], on = 'unique_id', how = 'left')"
   ]
  },
  {
   "cell_type": "code",
   "execution_count": 77,
   "id": "588d9e07-d717-4330-ba39-be9deb0c473a",
   "metadata": {
    "scrolled": true
   },
   "outputs": [
    {
     "name": "stderr",
     "output_type": "stream",
     "text": [
      "<ipython-input-77-59921c4cb84e>:1: FutureWarning: In a future version of pandas all arguments of concat except for the argument 'objs' will be keyword-only.\n",
      "  check = pd.concat(test_df.unique_id, train_df.unique_id)\n"
     ]
    },
    {
     "ename": "TypeError",
     "evalue": "first argument must be an iterable of pandas objects, you passed an object of type \"Series\"",
     "output_type": "error",
     "traceback": [
      "\u001b[0;31m---------------------------------------------------------------------------\u001b[0m",
      "\u001b[0;31mTypeError\u001b[0m                                 Traceback (most recent call last)",
      "\u001b[0;32m<ipython-input-77-59921c4cb84e>\u001b[0m in \u001b[0;36m<module>\u001b[0;34m\u001b[0m\n\u001b[0;32m----> 1\u001b[0;31m \u001b[0mcheck\u001b[0m \u001b[0;34m=\u001b[0m \u001b[0mpd\u001b[0m\u001b[0;34m.\u001b[0m\u001b[0mconcat\u001b[0m\u001b[0;34m(\u001b[0m\u001b[0mtest_df\u001b[0m\u001b[0;34m.\u001b[0m\u001b[0munique_id\u001b[0m\u001b[0;34m,\u001b[0m \u001b[0mtrain_df\u001b[0m\u001b[0;34m.\u001b[0m\u001b[0munique_id\u001b[0m\u001b[0;34m)\u001b[0m\u001b[0;34m\u001b[0m\u001b[0;34m\u001b[0m\u001b[0m\n\u001b[0m",
      "\u001b[0;32m~/Projects/JP_citation_classification/exp_venv/venv/lib/python3.8/site-packages/pandas/util/_decorators.py\u001b[0m in \u001b[0;36mwrapper\u001b[0;34m(*args, **kwargs)\u001b[0m\n\u001b[1;32m    329\u001b[0m                     \u001b[0mstacklevel\u001b[0m\u001b[0;34m=\u001b[0m\u001b[0mfind_stack_level\u001b[0m\u001b[0;34m(\u001b[0m\u001b[0;34m)\u001b[0m\u001b[0;34m,\u001b[0m\u001b[0;34m\u001b[0m\u001b[0;34m\u001b[0m\u001b[0m\n\u001b[1;32m    330\u001b[0m                 )\n\u001b[0;32m--> 331\u001b[0;31m             \u001b[0;32mreturn\u001b[0m \u001b[0mfunc\u001b[0m\u001b[0;34m(\u001b[0m\u001b[0;34m*\u001b[0m\u001b[0margs\u001b[0m\u001b[0;34m,\u001b[0m \u001b[0;34m**\u001b[0m\u001b[0mkwargs\u001b[0m\u001b[0;34m)\u001b[0m\u001b[0;34m\u001b[0m\u001b[0;34m\u001b[0m\u001b[0m\n\u001b[0m\u001b[1;32m    332\u001b[0m \u001b[0;34m\u001b[0m\u001b[0m\n\u001b[1;32m    333\u001b[0m         \u001b[0;31m# error: \"Callable[[VarArg(Any), KwArg(Any)], Any]\" has no\u001b[0m\u001b[0;34m\u001b[0m\u001b[0;34m\u001b[0m\u001b[0;34m\u001b[0m\u001b[0m\n",
      "\u001b[0;32m~/Projects/JP_citation_classification/exp_venv/venv/lib/python3.8/site-packages/pandas/core/reshape/concat.py\u001b[0m in \u001b[0;36mconcat\u001b[0;34m(objs, axis, join, ignore_index, keys, levels, names, verify_integrity, sort, copy)\u001b[0m\n\u001b[1;32m    366\u001b[0m     \u001b[0;36m1\u001b[0m   \u001b[0;36m3\u001b[0m   \u001b[0;36m4\u001b[0m\u001b[0;34m\u001b[0m\u001b[0;34m\u001b[0m\u001b[0m\n\u001b[1;32m    367\u001b[0m     \"\"\"\n\u001b[0;32m--> 368\u001b[0;31m     op = _Concatenator(\n\u001b[0m\u001b[1;32m    369\u001b[0m         \u001b[0mobjs\u001b[0m\u001b[0;34m,\u001b[0m\u001b[0;34m\u001b[0m\u001b[0;34m\u001b[0m\u001b[0m\n\u001b[1;32m    370\u001b[0m         \u001b[0maxis\u001b[0m\u001b[0;34m=\u001b[0m\u001b[0maxis\u001b[0m\u001b[0;34m,\u001b[0m\u001b[0;34m\u001b[0m\u001b[0;34m\u001b[0m\u001b[0m\n",
      "\u001b[0;32m~/Projects/JP_citation_classification/exp_venv/venv/lib/python3.8/site-packages/pandas/core/reshape/concat.py\u001b[0m in \u001b[0;36m__init__\u001b[0;34m(self, objs, axis, join, keys, levels, names, ignore_index, verify_integrity, copy, sort)\u001b[0m\n\u001b[1;32m    401\u001b[0m     ) -> None:\n\u001b[1;32m    402\u001b[0m         \u001b[0;32mif\u001b[0m \u001b[0misinstance\u001b[0m\u001b[0;34m(\u001b[0m\u001b[0mobjs\u001b[0m\u001b[0;34m,\u001b[0m \u001b[0;34m(\u001b[0m\u001b[0mABCSeries\u001b[0m\u001b[0;34m,\u001b[0m \u001b[0mABCDataFrame\u001b[0m\u001b[0;34m,\u001b[0m \u001b[0mstr\u001b[0m\u001b[0;34m)\u001b[0m\u001b[0;34m)\u001b[0m\u001b[0;34m:\u001b[0m\u001b[0;34m\u001b[0m\u001b[0;34m\u001b[0m\u001b[0m\n\u001b[0;32m--> 403\u001b[0;31m             raise TypeError(\n\u001b[0m\u001b[1;32m    404\u001b[0m                 \u001b[0;34m\"first argument must be an iterable of pandas \"\u001b[0m\u001b[0;34m\u001b[0m\u001b[0;34m\u001b[0m\u001b[0m\n\u001b[1;32m    405\u001b[0m                 \u001b[0;34mf'objects, you passed an object of type \"{type(objs).__name__}\"'\u001b[0m\u001b[0;34m\u001b[0m\u001b[0;34m\u001b[0m\u001b[0m\n",
      "\u001b[0;31mTypeError\u001b[0m: first argument must be an iterable of pandas objects, you passed an object of type \"Series\""
     ]
    }
   ],
   "source": []
  },
  {
   "cell_type": "code",
   "execution_count": 73,
   "id": "19b5e8ea-c60c-4380-9e9f-dc0b235298cb",
   "metadata": {},
   "outputs": [
    {
     "data": {
      "text/html": [
       "<div>\n",
       "<style scoped>\n",
       "    .dataframe tbody tr th:only-of-type {\n",
       "        vertical-align: middle;\n",
       "    }\n",
       "\n",
       "    .dataframe tbody tr th {\n",
       "        vertical-align: top;\n",
       "    }\n",
       "\n",
       "    .dataframe thead th {\n",
       "        text-align: right;\n",
       "    }\n",
       "</style>\n",
       "<table border=\"1\" class=\"dataframe\">\n",
       "  <thead>\n",
       "    <tr style=\"text-align: right;\">\n",
       "      <th></th>\n",
       "      <th>unique_id</th>\n",
       "      <th>core_id</th>\n",
       "      <th>citation_offset</th>\n",
       "      <th>total_doc_length</th>\n",
       "      <th>section_info</th>\n",
       "      <th>citing_title</th>\n",
       "      <th>citing_author</th>\n",
       "      <th>citing_publication_info</th>\n",
       "      <th>citing_abstract</th>\n",
       "      <th>cited_title</th>\n",
       "      <th>...</th>\n",
       "      <th>direct_citations</th>\n",
       "      <th>co_mentions</th>\n",
       "      <th>citation_class_label</th>\n",
       "      <th>citation_influence_label</th>\n",
       "      <th>cite_pos_in_sent</th>\n",
       "      <th>sent_pos_in_article</th>\n",
       "      <th>article_id</th>\n",
       "      <th>citing_publication_dat</th>\n",
       "      <th>reference_key</th>\n",
       "      <th>diff_publication_date</th>\n",
       "    </tr>\n",
       "  </thead>\n",
       "  <tbody>\n",
       "    <tr>\n",
       "      <th>0</th>\n",
       "      <td>CC1</td>\n",
       "      <td>81153632</td>\n",
       "      <td>2302.0</td>\n",
       "      <td>59724</td>\n",
       "      <td>{\"Introduction\": 2011, \"Synthesis\": 54734}</td>\n",
       "      <td>Two steps back, one step forward: reconstructi...</td>\n",
       "      <td>Severin Hohensinner</td>\n",
       "      <td>2013</td>\n",
       "      <td>As part of an interdisciplinary project on the...</td>\n",
       "      <td>The English Village Community Examined in its ...</td>\n",
       "      <td>...</td>\n",
       "      <td>1.0</td>\n",
       "      <td>1.0</td>\n",
       "      <td>5</td>\n",
       "      <td>0</td>\n",
       "      <td>0.398827</td>\n",
       "      <td>0.038544</td>\n",
       "      <td>96</td>\n",
       "      <td>2013</td>\n",
       "      <td>NaN</td>\n",
       "      <td>NaN</td>\n",
       "    </tr>\n",
       "    <tr>\n",
       "      <th>1</th>\n",
       "      <td>CC2</td>\n",
       "      <td>81153632</td>\n",
       "      <td>23562.0</td>\n",
       "      <td>59724</td>\n",
       "      <td>{\"Introduction\": 2011, \"Synthesis\": 54734}</td>\n",
       "      <td>Two steps back, one step forward: reconstructi...</td>\n",
       "      <td>Severin Hohensinner</td>\n",
       "      <td>2013</td>\n",
       "      <td>As part of an interdisciplinary project on the...</td>\n",
       "      <td>Die italienischen Begründer der Wiener Donauka...</td>\n",
       "      <td>...</td>\n",
       "      <td>1.0</td>\n",
       "      <td>1.0</td>\n",
       "      <td>0</td>\n",
       "      <td>1</td>\n",
       "      <td>0.929245</td>\n",
       "      <td>0.394515</td>\n",
       "      <td>96</td>\n",
       "      <td>2013</td>\n",
       "      <td>96_b60</td>\n",
       "      <td>36.0</td>\n",
       "    </tr>\n",
       "    <tr>\n",
       "      <th>2</th>\n",
       "      <td>CC3</td>\n",
       "      <td>81153632</td>\n",
       "      <td>22736.0</td>\n",
       "      <td>59724</td>\n",
       "      <td>{\"Introduction\": 2011, \"Synthesis\": 54734}</td>\n",
       "      <td>Two steps back, one step forward: reconstructi...</td>\n",
       "      <td>Severin Hohensinner</td>\n",
       "      <td>2013</td>\n",
       "      <td>As part of an interdisciplinary project on the...</td>\n",
       "      <td>Wien im Bild historischer Karten Die Entwicklu...</td>\n",
       "      <td>...</td>\n",
       "      <td>1.0</td>\n",
       "      <td>2.0</td>\n",
       "      <td>4</td>\n",
       "      <td>1</td>\n",
       "      <td>0.912281</td>\n",
       "      <td>0.380684</td>\n",
       "      <td>96</td>\n",
       "      <td>2013</td>\n",
       "      <td>96_b48</td>\n",
       "      <td>9.0</td>\n",
       "    </tr>\n",
       "    <tr>\n",
       "      <th>3</th>\n",
       "      <td>CC4</td>\n",
       "      <td>81153632</td>\n",
       "      <td>46410.0</td>\n",
       "      <td>59724</td>\n",
       "      <td>{\"Introduction\": 2011, \"Synthesis\": 54734}</td>\n",
       "      <td>Two steps back, one step forward: reconstructi...</td>\n",
       "      <td>Severin Hohensinner</td>\n",
       "      <td>2013</td>\n",
       "      <td>As part of an interdisciplinary project on the...</td>\n",
       "      <td>The hydraulic geometry of stream channels and ...</td>\n",
       "      <td>...</td>\n",
       "      <td>1.0</td>\n",
       "      <td>0.0</td>\n",
       "      <td>0</td>\n",
       "      <td>0</td>\n",
       "      <td>0.484615</td>\n",
       "      <td>0.777075</td>\n",
       "      <td>96</td>\n",
       "      <td>2013</td>\n",
       "      <td>96_b37</td>\n",
       "      <td>60.0</td>\n",
       "    </tr>\n",
       "    <tr>\n",
       "      <th>4</th>\n",
       "      <td>CC5</td>\n",
       "      <td>81153632</td>\n",
       "      <td>4191.0</td>\n",
       "      <td>59724</td>\n",
       "      <td>{\"Introduction\": 2011, \"Synthesis\": 54734}</td>\n",
       "      <td>Two steps back, one step forward: reconstructi...</td>\n",
       "      <td>Severin Hohensinner</td>\n",
       "      <td>2013</td>\n",
       "      <td>As part of an interdisciplinary project on the...</td>\n",
       "      <td>From memory to written record</td>\n",
       "      <td>...</td>\n",
       "      <td>1.0</td>\n",
       "      <td>0.0</td>\n",
       "      <td>0</td>\n",
       "      <td>0</td>\n",
       "      <td>0.888060</td>\n",
       "      <td>0.070173</td>\n",
       "      <td>96</td>\n",
       "      <td>2013</td>\n",
       "      <td>96_b10</td>\n",
       "      <td>20.0</td>\n",
       "    </tr>\n",
       "  </tbody>\n",
       "</table>\n",
       "<p>5 rows × 27 columns</p>\n",
       "</div>"
      ],
      "text/plain": [
       "  unique_id   core_id  citation_offset  total_doc_length  \\\n",
       "0       CC1  81153632           2302.0             59724   \n",
       "1       CC2  81153632          23562.0             59724   \n",
       "2       CC3  81153632          22736.0             59724   \n",
       "3       CC4  81153632          46410.0             59724   \n",
       "4       CC5  81153632           4191.0             59724   \n",
       "\n",
       "                                 section_info  \\\n",
       "0  {\"Introduction\": 2011, \"Synthesis\": 54734}   \n",
       "1  {\"Introduction\": 2011, \"Synthesis\": 54734}   \n",
       "2  {\"Introduction\": 2011, \"Synthesis\": 54734}   \n",
       "3  {\"Introduction\": 2011, \"Synthesis\": 54734}   \n",
       "4  {\"Introduction\": 2011, \"Synthesis\": 54734}   \n",
       "\n",
       "                                        citing_title        citing_author  \\\n",
       "0  Two steps back, one step forward: reconstructi...  Severin Hohensinner   \n",
       "1  Two steps back, one step forward: reconstructi...  Severin Hohensinner   \n",
       "2  Two steps back, one step forward: reconstructi...  Severin Hohensinner   \n",
       "3  Two steps back, one step forward: reconstructi...  Severin Hohensinner   \n",
       "4  Two steps back, one step forward: reconstructi...  Severin Hohensinner   \n",
       "\n",
       "   citing_publication_info                                    citing_abstract  \\\n",
       "0                     2013  As part of an interdisciplinary project on the...   \n",
       "1                     2013  As part of an interdisciplinary project on the...   \n",
       "2                     2013  As part of an interdisciplinary project on the...   \n",
       "3                     2013  As part of an interdisciplinary project on the...   \n",
       "4                     2013  As part of an interdisciplinary project on the...   \n",
       "\n",
       "                                         cited_title  ... direct_citations  \\\n",
       "0  The English Village Community Examined in its ...  ...              1.0   \n",
       "1  Die italienischen Begründer der Wiener Donauka...  ...              1.0   \n",
       "2  Wien im Bild historischer Karten Die Entwicklu...  ...              1.0   \n",
       "3  The hydraulic geometry of stream channels and ...  ...              1.0   \n",
       "4                      From memory to written record  ...              1.0   \n",
       "\n",
       "  co_mentions citation_class_label  citation_influence_label cite_pos_in_sent  \\\n",
       "0         1.0                    5                         0         0.398827   \n",
       "1         1.0                    0                         1         0.929245   \n",
       "2         2.0                    4                         1         0.912281   \n",
       "3         0.0                    0                         0         0.484615   \n",
       "4         0.0                    0                         0         0.888060   \n",
       "\n",
       "  sent_pos_in_article  article_id  citing_publication_dat  reference_key  \\\n",
       "0            0.038544          96                    2013            NaN   \n",
       "1            0.394515          96                    2013         96_b60   \n",
       "2            0.380684          96                    2013         96_b48   \n",
       "3            0.777075          96                    2013         96_b37   \n",
       "4            0.070173          96                    2013         96_b10   \n",
       "\n",
       "   diff_publication_date  \n",
       "0                    NaN  \n",
       "1                   36.0  \n",
       "2                    9.0  \n",
       "3                   60.0  \n",
       "4                   20.0  \n",
       "\n",
       "[5 rows x 27 columns]"
      ]
     },
     "execution_count": 73,
     "metadata": {},
     "output_type": "execute_result"
    }
   ],
   "source": [
    "add_data.head()"
   ]
  },
  {
   "cell_type": "code",
   "execution_count": 53,
   "id": "b2cec829-e674-489c-b742-2442a4ca7ad8",
   "metadata": {},
   "outputs": [],
   "source": [
    "features = ['cite_pos_in_sent', 'cited_publication_date', 'direct_citations', 'self_citation', 'sent_pos_in_article']\n",
    "target_column = 'citation_class_label'"
   ]
  },
  {
   "cell_type": "code",
   "execution_count": 43,
   "id": "dfc0f589-1429-4ef6-ae04-d57f643998f4",
   "metadata": {},
   "outputs": [],
   "source": [
    "X_train = train_df[features].astype(float)\n",
    "y_train = train_df[target_column].astype(float)\n",
    "X_test = test_df[features].astype(int)\n",
    "y_test = test_df[target_column].astype(int)"
   ]
  },
  {
   "cell_type": "code",
   "execution_count": 51,
   "id": "7e7b45c0-d7d9-4add-a34c-a8fabe2b275d",
   "metadata": {},
   "outputs": [
    {
     "data": {
      "text/plain": [
       "1928"
      ]
     },
     "execution_count": 51,
     "metadata": {},
     "output_type": "execute_result"
    }
   ],
   "source": [
    "len(y_train)"
   ]
  },
  {
   "cell_type": "markdown",
   "id": "a411a77c-a941-418e-a380-68b9813ee06b",
   "metadata": {},
   "source": [
    "# XGboost"
   ]
  },
  {
   "cell_type": "code",
   "execution_count": 11,
   "id": "5377999c-7acb-4dc8-8b86-cb72b0720861",
   "metadata": {},
   "outputs": [],
   "source": []
  },
  {
   "cell_type": "code",
   "execution_count": 44,
   "id": "84861e2d-a765-4793-9b25-f8a639884261",
   "metadata": {},
   "outputs": [
    {
     "ename": "ValueError",
     "evalue": "attempt to get argmax of an empty sequence",
     "output_type": "error",
     "traceback": [
      "\u001b[0;31m---------------------------------------------------------------------------\u001b[0m",
      "\u001b[0;31mValueError\u001b[0m                                Traceback (most recent call last)",
      "\u001b[0;32m<ipython-input-44-4a72aad8cafb>\u001b[0m in \u001b[0;36m<module>\u001b[0;34m\u001b[0m\n\u001b[1;32m      6\u001b[0m \u001b[0;34m\u001b[0m\u001b[0m\n\u001b[1;32m      7\u001b[0m \u001b[0;31m# Use the trained model to predict the labels for the test set.\u001b[0m\u001b[0;34m\u001b[0m\u001b[0;34m\u001b[0m\u001b[0;34m\u001b[0m\u001b[0m\n\u001b[0;32m----> 8\u001b[0;31m \u001b[0mpredictions\u001b[0m \u001b[0;34m=\u001b[0m \u001b[0mmodel\u001b[0m\u001b[0;34m.\u001b[0m\u001b[0mpredict\u001b[0m\u001b[0;34m(\u001b[0m\u001b[0mX_test\u001b[0m\u001b[0;34m)\u001b[0m\u001b[0;34m\u001b[0m\u001b[0;34m\u001b[0m\u001b[0m\n\u001b[0m\u001b[1;32m      9\u001b[0m \u001b[0;34m\u001b[0m\u001b[0m\n\u001b[1;32m     10\u001b[0m \u001b[0;31m# Calculate the F1 score.\u001b[0m\u001b[0;34m\u001b[0m\u001b[0;34m\u001b[0m\u001b[0;34m\u001b[0m\u001b[0m\n",
      "\u001b[0;32m~/Projects/JP_citation_classification/exp_venv/venv/lib/python3.8/site-packages/xgboost/sklearn.py\u001b[0m in \u001b[0;36mpredict\u001b[0;34m(self, X, output_margin, ntree_limit, validate_features, base_margin, iteration_range)\u001b[0m\n\u001b[1;32m   1537\u001b[0m             \u001b[0;32mif\u001b[0m \u001b[0mlen\u001b[0m\u001b[0;34m(\u001b[0m\u001b[0mclass_probs\u001b[0m\u001b[0;34m.\u001b[0m\u001b[0mshape\u001b[0m\u001b[0;34m)\u001b[0m \u001b[0;34m>\u001b[0m \u001b[0;36m1\u001b[0m \u001b[0;32mand\u001b[0m \u001b[0mself\u001b[0m\u001b[0;34m.\u001b[0m\u001b[0mn_classes_\u001b[0m \u001b[0;34m!=\u001b[0m \u001b[0;36m2\u001b[0m\u001b[0;34m:\u001b[0m\u001b[0;34m\u001b[0m\u001b[0;34m\u001b[0m\u001b[0m\n\u001b[1;32m   1538\u001b[0m                 \u001b[0;31m# multi-class, turns softprob into softmax\u001b[0m\u001b[0;34m\u001b[0m\u001b[0;34m\u001b[0m\u001b[0;34m\u001b[0m\u001b[0m\n\u001b[0;32m-> 1539\u001b[0;31m                 \u001b[0mcolumn_indexes\u001b[0m\u001b[0;34m:\u001b[0m \u001b[0mnp\u001b[0m\u001b[0;34m.\u001b[0m\u001b[0mndarray\u001b[0m \u001b[0;34m=\u001b[0m \u001b[0mnp\u001b[0m\u001b[0;34m.\u001b[0m\u001b[0margmax\u001b[0m\u001b[0;34m(\u001b[0m\u001b[0mclass_probs\u001b[0m\u001b[0;34m,\u001b[0m \u001b[0maxis\u001b[0m\u001b[0;34m=\u001b[0m\u001b[0;36m1\u001b[0m\u001b[0;34m)\u001b[0m  \u001b[0;31m# type: ignore\u001b[0m\u001b[0;34m\u001b[0m\u001b[0;34m\u001b[0m\u001b[0m\n\u001b[0m\u001b[1;32m   1540\u001b[0m             \u001b[0;32melif\u001b[0m \u001b[0mlen\u001b[0m\u001b[0;34m(\u001b[0m\u001b[0mclass_probs\u001b[0m\u001b[0;34m.\u001b[0m\u001b[0mshape\u001b[0m\u001b[0;34m)\u001b[0m \u001b[0;34m>\u001b[0m \u001b[0;36m1\u001b[0m \u001b[0;32mand\u001b[0m \u001b[0mclass_probs\u001b[0m\u001b[0;34m.\u001b[0m\u001b[0mshape\u001b[0m\u001b[0;34m[\u001b[0m\u001b[0;36m1\u001b[0m\u001b[0;34m]\u001b[0m \u001b[0;34m!=\u001b[0m \u001b[0;36m1\u001b[0m\u001b[0;34m:\u001b[0m\u001b[0;34m\u001b[0m\u001b[0;34m\u001b[0m\u001b[0m\n\u001b[1;32m   1541\u001b[0m                 \u001b[0;31m# multi-label\u001b[0m\u001b[0;34m\u001b[0m\u001b[0;34m\u001b[0m\u001b[0;34m\u001b[0m\u001b[0m\n",
      "\u001b[0;32m<__array_function__ internals>\u001b[0m in \u001b[0;36margmax\u001b[0;34m(*args, **kwargs)\u001b[0m\n",
      "\u001b[0;32m~/Projects/JP_citation_classification/exp_venv/venv/lib/python3.8/site-packages/numpy/core/fromnumeric.py\u001b[0m in \u001b[0;36margmax\u001b[0;34m(a, axis, out)\u001b[0m\n\u001b[1;32m   1193\u001b[0m \u001b[0;34m\u001b[0m\u001b[0m\n\u001b[1;32m   1194\u001b[0m     \"\"\"\n\u001b[0;32m-> 1195\u001b[0;31m     \u001b[0;32mreturn\u001b[0m \u001b[0m_wrapfunc\u001b[0m\u001b[0;34m(\u001b[0m\u001b[0ma\u001b[0m\u001b[0;34m,\u001b[0m \u001b[0;34m'argmax'\u001b[0m\u001b[0;34m,\u001b[0m \u001b[0maxis\u001b[0m\u001b[0;34m=\u001b[0m\u001b[0maxis\u001b[0m\u001b[0;34m,\u001b[0m \u001b[0mout\u001b[0m\u001b[0;34m=\u001b[0m\u001b[0mout\u001b[0m\u001b[0;34m)\u001b[0m\u001b[0;34m\u001b[0m\u001b[0;34m\u001b[0m\u001b[0m\n\u001b[0m\u001b[1;32m   1196\u001b[0m \u001b[0;34m\u001b[0m\u001b[0m\n\u001b[1;32m   1197\u001b[0m \u001b[0;34m\u001b[0m\u001b[0m\n",
      "\u001b[0;32m~/Projects/JP_citation_classification/exp_venv/venv/lib/python3.8/site-packages/numpy/core/fromnumeric.py\u001b[0m in \u001b[0;36m_wrapfunc\u001b[0;34m(obj, method, *args, **kwds)\u001b[0m\n\u001b[1;32m     55\u001b[0m \u001b[0;34m\u001b[0m\u001b[0m\n\u001b[1;32m     56\u001b[0m     \u001b[0;32mtry\u001b[0m\u001b[0;34m:\u001b[0m\u001b[0;34m\u001b[0m\u001b[0;34m\u001b[0m\u001b[0m\n\u001b[0;32m---> 57\u001b[0;31m         \u001b[0;32mreturn\u001b[0m \u001b[0mbound\u001b[0m\u001b[0;34m(\u001b[0m\u001b[0;34m*\u001b[0m\u001b[0margs\u001b[0m\u001b[0;34m,\u001b[0m \u001b[0;34m**\u001b[0m\u001b[0mkwds\u001b[0m\u001b[0;34m)\u001b[0m\u001b[0;34m\u001b[0m\u001b[0;34m\u001b[0m\u001b[0m\n\u001b[0m\u001b[1;32m     58\u001b[0m     \u001b[0;32mexcept\u001b[0m \u001b[0mTypeError\u001b[0m\u001b[0;34m:\u001b[0m\u001b[0;34m\u001b[0m\u001b[0;34m\u001b[0m\u001b[0m\n\u001b[1;32m     59\u001b[0m         \u001b[0;31m# A TypeError occurs if the object does have such a method in its\u001b[0m\u001b[0;34m\u001b[0m\u001b[0;34m\u001b[0m\u001b[0;34m\u001b[0m\u001b[0m\n",
      "\u001b[0;31mValueError\u001b[0m: attempt to get argmax of an empty sequence"
     ]
    }
   ],
   "source": [
    "# Create an instance of the classifier\n",
    "model = XGBClassifier()\n",
    "\n",
    "# Train it on the training set.\n",
    "model.fit(X_train, y_train)\n",
    "\n",
    "# Use the trained model to predict the labels for the test set.\n",
    "predictions = model.predict(X_test)\n",
    "\n",
    "# Calculate the F1 score.\n",
    "f1 = f1_score(y_true = y_test, y_pred = predictions, average='weighted')\n",
    "\n",
    "print('Using XGBoost on non-text features...')\n",
    "print('\\nF1: %.3f' % f1)"
   ]
  },
  {
   "cell_type": "code",
   "execution_count": 49,
   "id": "020eb128-fb98-461f-855e-4d1b0b9d44e2",
   "metadata": {},
   "outputs": [
    {
     "data": {
      "text/plain": [
       "0"
      ]
     },
     "execution_count": 49,
     "metadata": {},
     "output_type": "execute_result"
    }
   ],
   "source": [
    "y_test.isna().sum()"
   ]
  },
  {
   "cell_type": "code",
   "execution_count": 33,
   "id": "2b698075-02c3-4c4d-a14a-10ef245d5556",
   "metadata": {},
   "outputs": [
    {
     "data": {
      "text/plain": [
       "0      5\n",
       "1      0\n",
       "2      4\n",
       "3      0\n",
       "4      0\n",
       "      ..\n",
       "995    1\n",
       "996    3\n",
       "997    3\n",
       "998    3\n",
       "999    3\n",
       "Name: citation_class_label, Length: 1000, dtype: int64"
      ]
     },
     "execution_count": 33,
     "metadata": {},
     "output_type": "execute_result"
    }
   ],
   "source": [
    "y_test"
   ]
  },
  {
   "cell_type": "code",
   "execution_count": null,
   "id": "addb26cc-b502-4c23-8919-5739b577defb",
   "metadata": {},
   "outputs": [],
   "source": []
  }
 ],
 "metadata": {
  "kernelspec": {
   "display_name": "„exp_venv“",
   "language": "python",
   "name": "venv"
  },
  "language_info": {
   "codemirror_mode": {
    "name": "ipython",
    "version": 3
   },
   "file_extension": ".py",
   "mimetype": "text/x-python",
   "name": "python",
   "nbconvert_exporter": "python",
   "pygments_lexer": "ipython3",
   "version": "3.8.10"
  }
 },
 "nbformat": 4,
 "nbformat_minor": 5
}
