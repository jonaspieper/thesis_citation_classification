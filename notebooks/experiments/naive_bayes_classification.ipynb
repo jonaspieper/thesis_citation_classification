{
 "cells": [
  {
   "cell_type": "code",
   "execution_count": 37,
   "id": "5b1e1cb7-7234-46e4-a122-d13d30b42a30",
   "metadata": {},
   "outputs": [],
   "source": [
    "import numpy as np\n",
    "import pandas as pd\n",
    "\n",
    "from sklearn.feature_extraction.text import CountVectorizer\n",
    "from sklearn.naive_bayes import MultinomialNB\n",
    "from sklearn.metrics import accuracy_score\n",
    "from sklearn.metrics import f1_score"
   ]
  },
  {
   "cell_type": "code",
   "execution_count": 6,
   "id": "2dc02797-8b92-4f3b-9e86-cba4eb3deea0",
   "metadata": {},
   "outputs": [],
   "source": [
    "test = pd.read_csv('/home/roland/Projects/JP_citation_classification/SciBERT_additional_features/data/non_contiguous_acl_arc_exp3/test.txt' ,sep=\"\\t\", engine=\"python\", dtype=object)\n",
    "train = pd.read_csv('/home/roland/Projects/JP_citation_classification/SciBERT_additional_features/data/non_contiguous_acl_arc_exp3/train.txt' ,sep=\"\\t\", engine=\"python\", dtype=object)\n",
    "#valid = pd.read_csv('/home/roland/Projects/JP_citation_classification/SciBERT_additional_features/data/non_contiguous_acl_arc_exp3/valid.txt' ,sep=\"\\t\", engine=\"python\", dtype=object)"
   ]
  },
  {
   "cell_type": "code",
   "execution_count": 7,
   "id": "81ac86f8-08ca-4813-aedc-5eb848c114f3",
   "metadata": {},
   "outputs": [],
   "source": [
    "train = train[['citation_class_label', 'section_title']]\n",
    "test = test[['citation_class_label','section_title']]\n",
    "#valid = valid[['citation_class_label', 'dynamic_contexts_combined', 'section_title']]\n"
   ]
  },
  {
   "cell_type": "code",
   "execution_count": 9,
   "id": "799887c4-314b-4426-85af-69237cc60054",
   "metadata": {},
   "outputs": [],
   "source": [
    "train.citation_class_label = train.citation_class_label.astype(int)\n",
    "test.citation_class_label = test.citation_class_label.astype(int)\n",
    "#valid.citation_class_label = valid.citation_class_label.astype(int)"
   ]
  },
  {
   "cell_type": "code",
   "execution_count": 27,
   "id": "6cc6d1d7-7a51-417c-88f9-52814b59cc47",
   "metadata": {},
   "outputs": [],
   "source": [
    "train = train.dropna().reset_index(drop = True)\n",
    "test = test.dropna().reset_index(drop = True)"
   ]
  },
  {
   "cell_type": "code",
   "execution_count": 29,
   "id": "c94c54b0-e4b4-438a-8415-ac9b54972bd6",
   "metadata": {},
   "outputs": [],
   "source": [
    "train_section_titles = train.section_title\n",
    "train_citation_classes = train.citation_class_label\n",
    "test_section_titles = test.section_title\n",
    "test_citation_classes = test.citation_class_label"
   ]
  },
  {
   "cell_type": "code",
   "execution_count": 31,
   "id": "3529066f-e160-4cb5-a04d-76361fbb9aca",
   "metadata": {},
   "outputs": [],
   "source": [
    "vectorizer = CountVectorizer()\n",
    "train_X = vectorizer.fit_transform(train_section_titles)"
   ]
  },
  {
   "cell_type": "code",
   "execution_count": 32,
   "id": "8f0b40b0-0472-4d96-b855-4b85c36a8291",
   "metadata": {},
   "outputs": [
    {
     "data": {
      "text/plain": [
       "MultinomialNB(alpha=1.0, class_prior=None, fit_prior=True)"
      ]
     },
     "execution_count": 32,
     "metadata": {},
     "output_type": "execute_result"
    }
   ],
   "source": [
    "classifier = MultinomialNB()\n",
    "classifier.fit(train_X, citation_classes)"
   ]
  },
  {
   "cell_type": "code",
   "execution_count": 33,
   "id": "d8b4106c-9b23-439c-9ca2-732977bc4626",
   "metadata": {},
   "outputs": [],
   "source": [
    "test_X = vectorizer.transform(test_section_titles)"
   ]
  },
  {
   "cell_type": "code",
   "execution_count": 34,
   "id": "a8bcc90e-13c5-43d1-90f3-5d9d4894b434",
   "metadata": {},
   "outputs": [],
   "source": [
    "predicted_citation_classes = classifier.predict(test_X)"
   ]
  },
  {
   "cell_type": "code",
   "execution_count": 35,
   "id": "10bcc8c2-8a60-4e67-99e9-a08672c6451d",
   "metadata": {},
   "outputs": [
    {
     "name": "stdout",
     "output_type": "stream",
     "text": [
      "Accuracy: 0.5645933014354066\n"
     ]
    }
   ],
   "source": [
    "accuracy = accuracy_score(test_citation_classes, predicted_citation_classes)\n",
    "print(\"Accuracy:\", accuracy)"
   ]
  },
  {
   "cell_type": "code",
   "execution_count": 40,
   "id": "abbfc950-c0b6-43e1-b3ee-e5af3c582356",
   "metadata": {},
   "outputs": [
    {
     "name": "stdout",
     "output_type": "stream",
     "text": [
      "F1 Score: 0.5645933014354066\n"
     ]
    }
   ],
   "source": [
    "f1 = f1_score(test_citation_classes, predicted_citation_classes, average='micro')\n",
    "print(\"F1 Score:\", f1)"
   ]
  },
  {
   "cell_type": "code",
   "execution_count": null,
   "id": "cd81d669-300e-4181-834b-81a82f3db567",
   "metadata": {},
   "outputs": [],
   "source": []
  },
  {
   "cell_type": "code",
   "execution_count": null,
   "id": "a25232df-c67c-4f3d-95be-673bbbcd8226",
   "metadata": {},
   "outputs": [],
   "source": []
  }
 ],
 "metadata": {
  "kernelspec": {
   "display_name": "venv_seb",
   "language": "python",
   "name": "venv"
  },
  "language_info": {
   "codemirror_mode": {
    "name": "ipython",
    "version": 3
   },
   "file_extension": ".py",
   "mimetype": "text/x-python",
   "name": "python",
   "nbconvert_exporter": "python",
   "pygments_lexer": "ipython3",
   "version": "3.8.10"
  }
 },
 "nbformat": 4,
 "nbformat_minor": 5
}
